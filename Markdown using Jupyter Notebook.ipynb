{
 "cells": [
  {
   "cell_type": "markdown",
   "id": "f70d700a-fbcb-4153-9049-5852d2339027",
   "metadata": {},
   "source": [
    "# My Jupyter Notebook on IBM Watson Studio"
   ]
  },
  {
   "cell_type": "markdown",
   "id": "0a322623-389b-4286-ba5e-0649a248051d",
   "metadata": {},
   "source": [
    "**David Odutola**\n",
    "I am an Hydrographic Surveyor and Data Science Enthusiast"
   ]
  },
  {
   "cell_type": "markdown",
   "id": "00218700-018d-4004-94d3-831a335a265c",
   "metadata": {},
   "source": [
    "*I am interested in Data Science because I wish to do attain a PhD degree in the field*"
   ]
  },
  {
   "cell_type": "markdown",
   "id": "5644d174-1af2-4c15-8c03-13e6b402db7f",
   "metadata": {
    "tags": []
   },
   "source": [
    "### The code below produces the sum of any given numbers: ###"
   ]
  },
  {
   "cell_type": "code",
   "execution_count": 19,
   "id": "e307c059-bca0-470b-8fad-e7bc22a949cc",
   "metadata": {},
   "outputs": [
    {
     "name": "stdout",
     "output_type": "stream",
     "text": [
      "9340135\n",
      "8222019995\n",
      "9823556.547805998\n"
     ]
    }
   ],
   "source": [
    "def addition (a,b):\n",
    "    addition = a+b\n",
    "    print (addition)\n",
    "\n",
    "addition (137812,9202323)\n",
    "addition (7238237623,983782372)\n",
    "addition (38732.723983,9784823.823823)"
   ]
  },
  {
   "cell_type": "markdown",
   "id": "8b42231a-25b0-4bbf-9731-acb71316cba1",
   "metadata": {
    "tags": []
   },
   "source": [
    "##### Following lists shows some random exercises #####\n",
    "- This outputs and bullet point (-) and horizontal rule below (---)\n",
    "---\n",
    "1. Now for ordered lists\n",
    "  1. 2 spaces should output ordered list\n",
    "  748. No matter the number that follows it, as long as it is a number. This should output number 3\n",
    "  3782. I wish to strike out this ~~value~~\n",
    "  * However, when you use an asterick, it outputs a bullet point\n",
    "2. For tables\n",
    "   * |Date|Food|\n",
    "     |---|---|\n",
    "     |1.1.2022|Rice|\n",
    "     |2.1.2022|Beans|\n",
    "3. For links, click [here](www.google.com)\n",
    "4. To attach images with alternative text, kindly hover around image to see image title\n",
    "   * ![alt text](Picture1.png \"Focus on the bull's eye\")\n",
    "5. For code/syntax highlighting\n",
    "   * ```carry out syntax highlight```\n",
    "6. Finally, I want to insert blocked quote below\n",
    "   * His reply was \n",
    "   >*I tried to pull through, but I was scared. I dived deep into the seafloor of my thoughts, alas, not a single solution was found. You can quote me for all i care, I know i have done nothing wrong.*"
   ]
  }
 ],
 "metadata": {
  "kernelspec": {
   "display_name": "Python",
   "language": "python",
   "name": "conda-env-python-py"
  },
  "language_info": {
   "codemirror_mode": {
    "name": "ipython",
    "version": 3
   },
   "file_extension": ".py",
   "mimetype": "text/x-python",
   "name": "python",
   "nbconvert_exporter": "python",
   "pygments_lexer": "ipython3",
   "version": "3.7.12"
  }
 },
 "nbformat": 4,
 "nbformat_minor": 5
}
